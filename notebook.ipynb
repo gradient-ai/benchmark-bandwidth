{
 "cells": [
  {
   "cell_type": "code",
   "execution_count": null,
   "source": [
    "import numpy as np\n",
    "import cupy as cp\n",
    "from time import time"
   ],
   "outputs": [],
   "metadata": {}
  },
  {
   "cell_type": "code",
   "execution_count": null,
   "source": [
    "def benchmark_speed(arr, func, argument):\n",
    "\tstart_time = time()\n",
    "    func(arr, argument) #your argument will be broadcasted into a matrix\n",
    "    finish_time = finish_time - start_time\n",
    "    return elapsed_time"
   ],
   "outputs": [],
   "metadata": {}
  },
  {
   "cell_type": "code",
   "execution_count": null,
   "source": [
    "# store a matrix into global memory\n",
    "array_cpu = np.random.randint(0, 255, size=(9999, 9999))\n",
    "\n",
    "# store the same matrix to GPU memory\n",
    "array_gpu = cp.asarray(array_cpu)"
   ],
   "outputs": [],
   "metadata": {}
  },
  {
   "cell_type": "code",
   "execution_count": null,
   "source": [
    "# benchmark matrix addition on CPU by using a NumPy addition function\n",
    "cpu_time = benchmark_speed(array_cpu, np.add, 999)\n",
    "\n",
    "# you need to run a pilot iteration on a GPU first to compile and cache the function kernel on a GPU\n",
    "benchmark_speed(array_gpu, cp.add, 1)\n",
    "\n",
    "# benchmark matrix addition on GPU by using CuPy addition function\n",
    "gpu_time = benchmark_speed(array_gpu, cp.add, 999)\n",
    "\n",
    "# Compare GPU and CPU speed\n",
    "faster_speed = (gpu_time - cpu_time) / gpu_time * 100"
   ],
   "outputs": [],
   "metadata": {}
  },
  {
   "cell_type": "code",
   "execution_count": null,
   "source": [
    "print(f\"CPU time: {cpu_time} seconds\\nGPU time: {gpu_time} seconds.\\nGPU was {faster_speed} percent faster\")"
   ],
   "outputs": [],
   "metadata": {}
  }
 ],
 "metadata": {
  "orig_nbformat": 4,
  "language_info": {
   "name": "plaintext"
  }
 },
 "nbformat": 4,
 "nbformat_minor": 2
}